{
 "cells": [
  {
   "cell_type": "markdown",
   "id": "826908a8-8322-46af-9b24-7af0259861f3",
   "metadata": {},
   "source": [
    "**List in pandas DataFrame Cell**\n",
    "\n",
    "How do you extract the contents of a DataFrame cell that hosts an iterable, e.g list, while maintaining a primary KEY."
   ]
  },
  {
   "cell_type": "code",
   "execution_count": 1,
   "id": "f0ad7d32-3f6e-4209-88af-cf54c9e0d02e",
   "metadata": {},
   "outputs": [],
   "source": [
    "import numpy as np\n",
    "import pandas as pd"
   ]
  },
  {
   "cell_type": "code",
   "execution_count": 2,
   "id": "5f88d899-febe-4873-837c-9d951404b828",
   "metadata": {},
   "outputs": [
    {
     "data": {
      "text/html": [
       "<div>\n",
       "<style scoped>\n",
       "    .dataframe tbody tr th:only-of-type {\n",
       "        vertical-align: middle;\n",
       "    }\n",
       "\n",
       "    .dataframe tbody tr th {\n",
       "        vertical-align: top;\n",
       "    }\n",
       "\n",
       "    .dataframe thead th {\n",
       "        text-align: right;\n",
       "    }\n",
       "</style>\n",
       "<table border=\"1\" class=\"dataframe\">\n",
       "  <thead>\n",
       "    <tr style=\"text-align: right;\">\n",
       "      <th></th>\n",
       "      <th>Col1</th>\n",
       "      <th>Col2</th>\n",
       "    </tr>\n",
       "  </thead>\n",
       "  <tbody>\n",
       "    <tr>\n",
       "      <th>0</th>\n",
       "      <td>group 1</td>\n",
       "      <td>[spec 1, spec 2, spec 3]</td>\n",
       "    </tr>\n",
       "    <tr>\n",
       "      <th>1</th>\n",
       "      <td>group 2</td>\n",
       "      <td>[trial 1, trial 2, trial 3, trial 4]</td>\n",
       "    </tr>\n",
       "    <tr>\n",
       "      <th>2</th>\n",
       "      <td>group 3</td>\n",
       "      <td>[leggo 1, leggo 2, leggo 3]</td>\n",
       "    </tr>\n",
       "  </tbody>\n",
       "</table>\n",
       "</div>"
      ],
      "text/plain": [
       "      Col1                                  Col2\n",
       "0  group 1              [spec 1, spec 2, spec 3]\n",
       "1  group 2  [trial 1, trial 2, trial 3, trial 4]\n",
       "2  group 3           [leggo 1, leggo 2, leggo 3]"
      ]
     },
     "execution_count": 2,
     "metadata": {},
     "output_type": "execute_result"
    }
   ],
   "source": [
    "sample_df = pd.DataFrame({'Col1': ['group 1', 'group 2', 'group 3'], \n",
    "             'Col2':[['spec 1', 'spec 2', 'spec 3'], ['trial 1', 'trial 2', 'trial 3', 'trial 4'], ['leggo 1', 'leggo 2', 'leggo 3']]})\n",
    "\n",
    "sample_df"
   ]
  },
  {
   "cell_type": "markdown",
   "id": "1091b8d6-788c-44e7-8493-acdfcc941eca",
   "metadata": {},
   "source": [
    "Given the above DataFrame create a matching, e.g\n",
    "<br>group 1, spec 1\n",
    "<br>group 1, spec 2\n",
    "<br>group 1, spec 3\n",
    "<br>group 2, trial 1\n",
    "<br>group 2, trial 2\n",
    "<br>..."
   ]
  },
  {
   "cell_type": "code",
   "execution_count": 3,
   "id": "8b6f5f35-e890-4fc0-a4e9-55aa7dd89285",
   "metadata": {},
   "outputs": [
    {
     "data": {
      "text/html": [
       "<div>\n",
       "<style scoped>\n",
       "    .dataframe tbody tr th:only-of-type {\n",
       "        vertical-align: middle;\n",
       "    }\n",
       "\n",
       "    .dataframe tbody tr th {\n",
       "        vertical-align: top;\n",
       "    }\n",
       "\n",
       "    .dataframe thead th {\n",
       "        text-align: right;\n",
       "    }\n",
       "</style>\n",
       "<table border=\"1\" class=\"dataframe\">\n",
       "  <thead>\n",
       "    <tr style=\"text-align: right;\">\n",
       "      <th></th>\n",
       "      <th>Col1</th>\n",
       "      <th>Col2</th>\n",
       "    </tr>\n",
       "  </thead>\n",
       "  <tbody>\n",
       "    <tr>\n",
       "      <th>0</th>\n",
       "      <td>group 1</td>\n",
       "      <td>[spec 1, spec 2, spec 3]</td>\n",
       "    </tr>\n",
       "    <tr>\n",
       "      <th>1</th>\n",
       "      <td>group 2</td>\n",
       "      <td>[trial 1, trial 2, trial 3, trial 4]</td>\n",
       "    </tr>\n",
       "    <tr>\n",
       "      <th>2</th>\n",
       "      <td>group 3</td>\n",
       "      <td>[leggo 1, leggo 2, leggo 3]</td>\n",
       "    </tr>\n",
       "  </tbody>\n",
       "</table>\n",
       "</div>"
      ],
      "text/plain": [
       "      Col1                                  Col2\n",
       "0  group 1              [spec 1, spec 2, spec 3]\n",
       "1  group 2  [trial 1, trial 2, trial 3, trial 4]\n",
       "2  group 3           [leggo 1, leggo 2, leggo 3]"
      ]
     },
     "execution_count": 3,
     "metadata": {},
     "output_type": "execute_result"
    }
   ],
   "source": [
    "sample_df"
   ]
  },
  {
   "cell_type": "code",
   "execution_count": 4,
   "id": "bba3567e-37a6-4df2-90e8-d85fafd89f4b",
   "metadata": {},
   "outputs": [],
   "source": [
    "resultant_df = pd.DataFrame()\n",
    "\n",
    "for row_ind in np.arange(sample_df.shape[0]):\n",
    "    \n",
    "    Col1 = sample_df.loc[row_ind, 'Col1']\n",
    "    \n",
    "    for spec in sample_df.loc[row_ind, 'Col2']:\n",
    "        new_row = pd.DataFrame([Col1, spec]).transpose()\n",
    "        new_row.columns = sample_df.columns\n",
    "        resultant_df = pd.concat([resultant_df, new_row])"
   ]
  },
  {
   "cell_type": "code",
   "execution_count": 5,
   "id": "2253d51c-bec7-4f9b-b7df-c2d76aeef875",
   "metadata": {},
   "outputs": [
    {
     "data": {
      "text/html": [
       "<div>\n",
       "<style scoped>\n",
       "    .dataframe tbody tr th:only-of-type {\n",
       "        vertical-align: middle;\n",
       "    }\n",
       "\n",
       "    .dataframe tbody tr th {\n",
       "        vertical-align: top;\n",
       "    }\n",
       "\n",
       "    .dataframe thead th {\n",
       "        text-align: right;\n",
       "    }\n",
       "</style>\n",
       "<table border=\"1\" class=\"dataframe\">\n",
       "  <thead>\n",
       "    <tr style=\"text-align: right;\">\n",
       "      <th></th>\n",
       "      <th>Col1</th>\n",
       "      <th>Col2</th>\n",
       "    </tr>\n",
       "  </thead>\n",
       "  <tbody>\n",
       "    <tr>\n",
       "      <th>0</th>\n",
       "      <td>group 1</td>\n",
       "      <td>spec 1</td>\n",
       "    </tr>\n",
       "    <tr>\n",
       "      <th>0</th>\n",
       "      <td>group 1</td>\n",
       "      <td>spec 2</td>\n",
       "    </tr>\n",
       "    <tr>\n",
       "      <th>0</th>\n",
       "      <td>group 1</td>\n",
       "      <td>spec 3</td>\n",
       "    </tr>\n",
       "    <tr>\n",
       "      <th>0</th>\n",
       "      <td>group 2</td>\n",
       "      <td>trial 1</td>\n",
       "    </tr>\n",
       "    <tr>\n",
       "      <th>0</th>\n",
       "      <td>group 2</td>\n",
       "      <td>trial 2</td>\n",
       "    </tr>\n",
       "    <tr>\n",
       "      <th>0</th>\n",
       "      <td>group 2</td>\n",
       "      <td>trial 3</td>\n",
       "    </tr>\n",
       "    <tr>\n",
       "      <th>0</th>\n",
       "      <td>group 2</td>\n",
       "      <td>trial 4</td>\n",
       "    </tr>\n",
       "    <tr>\n",
       "      <th>0</th>\n",
       "      <td>group 3</td>\n",
       "      <td>leggo 1</td>\n",
       "    </tr>\n",
       "    <tr>\n",
       "      <th>0</th>\n",
       "      <td>group 3</td>\n",
       "      <td>leggo 2</td>\n",
       "    </tr>\n",
       "    <tr>\n",
       "      <th>0</th>\n",
       "      <td>group 3</td>\n",
       "      <td>leggo 3</td>\n",
       "    </tr>\n",
       "  </tbody>\n",
       "</table>\n",
       "</div>"
      ],
      "text/plain": [
       "      Col1     Col2\n",
       "0  group 1   spec 1\n",
       "0  group 1   spec 2\n",
       "0  group 1   spec 3\n",
       "0  group 2  trial 1\n",
       "0  group 2  trial 2\n",
       "0  group 2  trial 3\n",
       "0  group 2  trial 4\n",
       "0  group 3  leggo 1\n",
       "0  group 3  leggo 2\n",
       "0  group 3  leggo 3"
      ]
     },
     "execution_count": 5,
     "metadata": {},
     "output_type": "execute_result"
    }
   ],
   "source": [
    "resultant_df"
   ]
  }
 ],
 "metadata": {
  "kernelspec": {
   "display_name": "Python 3 (ipykernel)",
   "language": "python",
   "name": "python3"
  },
  "language_info": {
   "codemirror_mode": {
    "name": "ipython",
    "version": 3
   },
   "file_extension": ".py",
   "mimetype": "text/x-python",
   "name": "python",
   "nbconvert_exporter": "python",
   "pygments_lexer": "ipython3",
   "version": "3.9.12"
  }
 },
 "nbformat": 4,
 "nbformat_minor": 5
}
